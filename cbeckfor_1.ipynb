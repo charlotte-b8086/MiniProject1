{
 "cells": [
  {
   "cell_type": "code",
   "execution_count": 36,
   "metadata": {},
   "outputs": [],
   "source": [
    "text_1_allende = open(\"dos_palabras_allende.txt\", \"r\")\n",
    "text_2_allende = open(\"boca_de_sapo_allende.txt\", \"r\")\n",
    "text_3_marquez = open('cronica_de_una_muerte_anunciada_marquez.txt', 'r')\n",
    "\n",
    "d_1 = dict()\n",
    "d_2 = dict()\n",
    "d3 = dict()\n",
    "stop_words = [\n",
    " 'ut', '\\'re','.', ',', '--', '\\'s', '?', ')', '(', ':', '\\'',\n",
    " '\\\"', '-', '}', '{', '&', '|', u'\\u2014' ]\n",
    "\n",
    "def text_analysis(d_1):\n",
    "    for line in text_1_allende:\n",
    "        line = line.strip()\n",
    "        line = line.lower()\n",
    "        words = line.replace('-', ' ').split(' ')\n",
    "\n",
    "        for word in words:\n",
    "            if word in d_1:\n",
    "                d_1[word] += 1\n",
    "            else: \n",
    "                d_1[word] = 1\n",
    "    for k in stop_words:\n",
    "        d_1.pop(k, None)\n",
    "\n",
    "    most_used_words, longest_words = [], []\n",
    "    #most commonly used words\n",
    "    while len(most_used_words) < 20:#len(max_twenty__words) < 20:\n",
    "        M = max(d_1, key=d_1.get)\n",
    "        most_used_words.append(str(M))\n",
    "        d_1.pop(M)\n",
    "    print(most_used_words)\n",
    "    #longest words\n",
    "    while len(longest_words)< 20:\n",
    "        L =max(d_1, key=len)\n",
    "        longest_words.append(str(L))\n",
    "        d_1.pop(L)\n",
    "    print(longest_words)\n",
    "\n"
   ]
  }
 ],
 "metadata": {
  "kernelspec": {
   "display_name": "Python 3.8.2 64-bit",
   "language": "python",
   "name": "python3"
  },
  "language_info": {
   "codemirror_mode": {
    "name": "ipython",
    "version": 3
   },
   "file_extension": ".py",
   "mimetype": "text/x-python",
   "name": "python",
   "nbconvert_exporter": "python",
   "pygments_lexer": "ipython3",
   "version": "3.8.2"
  },
  "orig_nbformat": 4,
  "vscode": {
   "interpreter": {
    "hash": "31f2aee4e71d21fbe5cf8b01ff0e069b9275f58929596ceb00d14d90e3e16cd6"
   }
  }
 },
 "nbformat": 4,
 "nbformat_minor": 2
}
